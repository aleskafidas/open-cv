{
 "cells": [
  {
   "cell_type": "code",
   "execution_count": 1,
   "id": "90a50f1a",
   "metadata": {},
   "outputs": [],
   "source": [
    "import cv2\n",
    "imagen=cv2.imread('contorno.jpg')\n",
    "\n",
    "\n",
    "#mostrar\n",
    "cv2.imshow(' imagen oringinal',imagen)\n",
    "cv2.waitKey(0)\n",
    "cv2.destroyAllWindows()"
   ]
  },
  {
   "cell_type": "code",
   "execution_count": 2,
   "id": "afbc8afe",
   "metadata": {},
   "outputs": [],
   "source": [
    "import cv2\n",
    "imagen=cv2.imread('contorno.jpg')\n",
    "grises = cv2.cvtColor(imagen,cv2.COLOR_BGR2GRAY)\n",
    "\n",
    "#mostrar\n",
    "cv2.imshow('hola soy una imagen',grises)\n",
    "cv2.waitKey(0)\n",
    "cv2.destroyAllWindows()"
   ]
  },
  {
   "cell_type": "code",
   "execution_count": 3,
   "id": "fc8a9a3e",
   "metadata": {},
   "outputs": [],
   "source": [
    "import cv2\n",
    "imagen=cv2.imread('contorno.jpg')\n",
    "_,umbral=cv2.threshold(grises,100,255,cv2.THRESH_BINARY)\n",
    "contorno,jerarquia = cv2.findContours(umbral,cv2.RETR_LIST,cv2.CHAIN_APPROX_SIMPLE)\n",
    "cv2.drawContours(imagen,contorno,-1,(251,63,52),3)\n",
    "\n",
    "#mostrar\n",
    "cv2.imshow(' imagen oringinal',imagen)\n",
    "cv2.imshow('hola soy una imagen',grises)\n",
    "cv2.imshow('imagen umbral', umbral)\n",
    "cv2.waitKey(0)\n",
    "cv2.destroyAllWindows()"
   ]
  },
  {
   "cell_type": "code",
   "execution_count": 7,
   "id": "556144d5",
   "metadata": {},
   "outputs": [
    {
     "name": "stdout",
     "output_type": "stream",
     "text": [
      "monedas encontradas: 7\n"
     ]
    },
    {
     "data": {
      "text/plain": [
       "-1"
      ]
     },
     "execution_count": 7,
     "metadata": {},
     "output_type": "execute_result"
    }
   ],
   "source": [
    "import numpy as np\n",
    "\n",
    "valor_gauss=1\n",
    "valor_kernel=33\n",
    "original=cv2.imread('monedassoles.jpg')\n",
    "gris=cv2.cvtColor(original,cv2.COLOR_BGR2GRAY)\n",
    "gauss=cv2.GaussianBlur(gris, (valor_gauss,valor_gauss), 0 )\n",
    "canny=cv2.Canny(gauss, 60,100)\n",
    "\n",
    "kernel = np.ones((valor_kernel,valor_kernel), np.uint8)\n",
    "cierre=cv2.morphologyEx(canny, cv2.MORPH_CLOSE, kernel )\n",
    "\n",
    "\n",
    "contornos, jerarquia=cv2.findContours(cierre.copy(), cv2.RETR_EXTERNAL, cv2.CHAIN_APPROX_SIMPLE )\n",
    "\n",
    "print('monedas encontradas: {}'.format(len(contornos)))\n",
    "cv2.drawContours(original, contornos, -1, (0,0,255),2 )\n",
    "\n",
    "\n",
    "#mostrar resultados\n",
    "\n",
    "cv2.imshow('Grises', gris)\n",
    "cv2.imshow('Gauss', gauss)\n",
    "cv2.imshow('canny', canny)\n",
    "cv2.imshow('cierre', cierre)\n",
    "cv2.imshow('resultado', original)\n",
    "cv2.waitKey(0)"
   ]
  },
  {
   "cell_type": "code",
   "execution_count": 2,
   "id": "e0d3b2e8",
   "metadata": {},
   "outputs": [],
   "source": [
    "#contador de monedas con camara\n",
    "\n",
    "capturaVideo=cv2.VideoCapture(1)#cero para camaras del pc y 1 para camras externas\n",
    "if not capturaVideo.isOpened():\n",
    "    print('nose encontro una camara')\n",
    "    exit()\n",
    "\n",
    "while True:\n",
    "    tipocamara,camara=capturaVideo.read()\n",
    "\n",
    "    #grays=cv2.cvtColor(camara, cv2.COLOR_BGR2GRAY)\n",
    "    cv2.imshow('En vivo', camara)\n",
    "    if cv2.waitKey(1)==ord('q'):\n",
    "        break\n",
    "capturaVideo.release()\n",
    "cv2.destroyAllWindows()"
   ]
  },
  {
   "cell_type": "code",
   "execution_count": 8,
   "id": "70eb2325",
   "metadata": {},
   "outputs": [
    {
     "name": "stdout",
     "output_type": "stream",
     "text": [
      "Sumatoria total en PESOS: 0.0\n",
      "Sumatoria total en PESOS: 0.0\n",
      "Sumatoria total en PESOS: 0.0\n",
      "Sumatoria total en PESOS: 0.0\n",
      "Sumatoria total en PESOS: 0.0\n",
      "Sumatoria total en PESOS: 0.0\n",
      "Sumatoria total en PESOS: 0.0\n",
      "Sumatoria total en PESOS: 0.0\n",
      "Sumatoria total en PESOS: 0.0\n",
      "Sumatoria total en PESOS: 0.0\n"
     ]
    }
   ],
   "source": [
    "import cv2\n",
    "import numpy as np\n",
    "def ordenarpuntos(puntos):\n",
    "    n_puntos=np.concatenate([puntos[0],puntos[1],puntos[2],puntos[3]]).tolist()\n",
    "    y_order=sorted(n_puntos,key=lambda n_puntos:n_puntos[1])\n",
    "    x1_order=y_order[:2]\n",
    "    x1_order=sorted(x1_order,key=lambda x1_order:x1_order[0])\n",
    "    x2_order=y_order[2:4]\n",
    "    x2_order=sorted(x2_order,key=lambda x2_order:x2_order[0])\n",
    "    return [x1_order[0],x1_order[1],x2_order[0],x2_order[1]]\n",
    "def alineamiento(imagen,ancho,alto):\n",
    "    imagen_alineada=None\n",
    "    grises=cv2.cvtColor(imagen, cv2.COLOR_BGR2GRAY)\n",
    "    tipoumbral,umbral=cv2.threshold(grises, 150,255, cv2.THRESH_BINARY)\n",
    "    cv2.imshow(\"Umbral\", umbral)\n",
    "    contorno=cv2.findContours(umbral, cv2.RETR_EXTERNAL, cv2.CHAIN_APPROX_SIMPLE)[0]\n",
    "    contorno=sorted(contorno,key=cv2.contourArea,reverse=True)[:1]\n",
    "    for c in contorno:\n",
    "        epsilon=0.01*cv2.arcLength(c, True)\n",
    "        approximacion=cv2.approxPolyDP(c, epsilon, True)\n",
    "        if len(approximacion)==4:\n",
    "            puntos=ordenarpuntos(approximacion)\n",
    "            puntos1=np.float32(puntos)\n",
    "            puntos2=np.float32([[0,0],[ancho,0],[0,alto],[ancho,alto]])\n",
    "            M = cv2.getPerspectiveTransform(puntos1, puntos2)\n",
    "            imagen_alineada=cv2.warpPerspective(imagen, M, (ancho,alto))\n",
    "    return imagen_alineada\n",
    "capturavideo= cv2.VideoCapture(1)\n",
    "\n",
    "while True:\n",
    "    tipocamara,camara=capturavideo.read()\n",
    "    if tipocamara==False:\n",
    "        break\n",
    "    imagen_A6=alineamiento(camara,ancho=480,alto=640)\n",
    "    if imagen_A6 is not None:\n",
    "        puntos=[]\n",
    "        imagen_gris=cv2.cvtColor(imagen_A6,cv2.COLOR_BGR2GRAY)\n",
    "        blur=cv2.GaussianBlur(imagen_gris,(5,5),1)\n",
    "        _,umbral2=cv2.threshold(blur,0,255,cv2.THRESH_OTSU+cv2.THRESH_BINARY_INV)\n",
    "        cv2.imshow(\"Umbral\",umbral2)\n",
    "        contorno2=cv2.findContours(umbral2, cv2.RETR_EXTERNAL, cv2.CHAIN_APPROX_SIMPLE)[0]\n",
    "        cv2.drawContours(imagen_A6, contorno2, -1, (255,0,0),2)\n",
    "        suma1=0.0\n",
    "        suma2=0.0\n",
    "        for c_2 in contorno2:\n",
    "            area=cv2.contourArea(c_2)\n",
    "            Momentos = cv2.moments(c_2)\n",
    "            if(Momentos[\"m00\"]==0):\n",
    "                Momentos[\"m00\"]=1.0\n",
    "            x=int(Momentos[\"m10\"]/Momentos[\"m00\"])\n",
    "            y=int(Momentos[\"m01\"]/Momentos[\"m00\"])\n",
    "\n",
    "            if area<7200 and area>7000:\n",
    "                font=cv2.FONT_HERSHEY_SIMPLEX\n",
    "                cv2.putText(imagen_A6, \"PESOS 100\",(x,y) , font, 0.75, (0,255,0),2)#LA ESCALA VA DE 0 A 1\n",
    "                suma1=suma1+100\n",
    "            \n",
    "            if area<5200 and area>5800:\n",
    "                font=cv2.FONT_HERSHEY_SIMPLEX\n",
    "                cv2.putText(imagen_A6, \"PESOS 50\",(x,y) , font, 0.75, (0,255,0),2)\n",
    "                suma2=suma2+50\n",
    "        total=suma1+suma2\n",
    "        print(\"Sumatoria total en PESOS:\",round(total,2))\n",
    "        cv2.imshow(\"Imagen A6\", imagen_A6)\n",
    "        cv2.imshow(\"camara\", camara)\n",
    "    if cv2.waitKey(1) == ord('s'):\n",
    "        break\n",
    "capturavideo.release()\n",
    "cv2.destroyAllWindows()\n",
    "\n"
   ]
  }
 ],
 "metadata": {
  "kernelspec": {
   "display_name": "Python 3",
   "language": "python",
   "name": "python3"
  },
  "language_info": {
   "codemirror_mode": {
    "name": "ipython",
    "version": 3
   },
   "file_extension": ".py",
   "mimetype": "text/x-python",
   "name": "python",
   "nbconvert_exporter": "python",
   "pygments_lexer": "ipython3",
   "version": "3.10.4"
  },
  "vscode": {
   "interpreter": {
    "hash": "52634da84371cba311ea128a5ea7cdc41ff074b781779e754b270ff9f8153cee"
   }
  }
 },
 "nbformat": 4,
 "nbformat_minor": 5
}
